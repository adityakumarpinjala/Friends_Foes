{
 "cells": [
  {
   "cell_type": "code",
   "execution_count": 1,
   "metadata": {},
   "outputs": [],
   "source": [
    "import pandas as pd\n",
    "import numpy as np"
   ]
  },
  {
   "cell_type": "code",
   "execution_count": 2,
   "metadata": {},
   "outputs": [],
   "source": [
    "friends=pd.read_csv('./intellect/friends.csv')"
   ]
  },
  {
   "cell_type": "code",
   "execution_count": 3,
   "metadata": {},
   "outputs": [],
   "source": [
    "foes=pd.read_csv('./intellect/foes.csv')"
   ]
  },
  {
   "cell_type": "code",
   "execution_count": 4,
   "metadata": {},
   "outputs": [],
   "source": [
    "scores=pd.read_csv('./intellect/scores.csv')"
   ]
  },
  {
   "cell_type": "code",
   "execution_count": 5,
   "metadata": {},
   "outputs": [
    {
     "data": {
      "text/html": [
       "<div>\n",
       "<style scoped>\n",
       "    .dataframe tbody tr th:only-of-type {\n",
       "        vertical-align: middle;\n",
       "    }\n",
       "\n",
       "    .dataframe tbody tr th {\n",
       "        vertical-align: top;\n",
       "    }\n",
       "\n",
       "    .dataframe thead th {\n",
       "        text-align: right;\n",
       "    }\n",
       "</style>\n",
       "<table border=\"1\" class=\"dataframe\">\n",
       "  <thead>\n",
       "    <tr style=\"text-align: right;\">\n",
       "      <th></th>\n",
       "      <th>person1</th>\n",
       "      <th>person2</th>\n",
       "    </tr>\n",
       "  </thead>\n",
       "  <tbody>\n",
       "    <tr>\n",
       "      <th>0</th>\n",
       "      <td>441e08b1_a0431c52</td>\n",
       "      <td>404021bf_898326ec</td>\n",
       "    </tr>\n",
       "    <tr>\n",
       "      <th>1</th>\n",
       "      <td>3f4929ef_956613b7</td>\n",
       "      <td>d6031447_a684b614</td>\n",
       "    </tr>\n",
       "    <tr>\n",
       "      <th>2</th>\n",
       "      <td>1f75eb7f_e1d4405b</td>\n",
       "      <td>5ccf7530_5343d32b</td>\n",
       "    </tr>\n",
       "    <tr>\n",
       "      <th>3</th>\n",
       "      <td>9b6edd00_179def5</td>\n",
       "      <td>e7d1222f_49ff1c63</td>\n",
       "    </tr>\n",
       "    <tr>\n",
       "      <th>4</th>\n",
       "      <td>130181c4_27cb3b23</td>\n",
       "      <td>536c3152_db65659b</td>\n",
       "    </tr>\n",
       "  </tbody>\n",
       "</table>\n",
       "</div>"
      ],
      "text/plain": [
       "             person1            person2\n",
       "0  441e08b1_a0431c52  404021bf_898326ec\n",
       "1  3f4929ef_956613b7  d6031447_a684b614\n",
       "2  1f75eb7f_e1d4405b  5ccf7530_5343d32b\n",
       "3   9b6edd00_179def5  e7d1222f_49ff1c63\n",
       "4  130181c4_27cb3b23  536c3152_db65659b"
      ]
     },
     "execution_count": 5,
     "metadata": {},
     "output_type": "execute_result"
    }
   ],
   "source": [
    "friends.head()"
   ]
  },
  {
   "cell_type": "code",
   "execution_count": 6,
   "metadata": {},
   "outputs": [],
   "source": [
    "friends=friends.rename(columns={'person2':'friend'})"
   ]
  },
  {
   "cell_type": "code",
   "execution_count": 7,
   "metadata": {},
   "outputs": [
    {
     "data": {
      "text/html": [
       "<div>\n",
       "<style scoped>\n",
       "    .dataframe tbody tr th:only-of-type {\n",
       "        vertical-align: middle;\n",
       "    }\n",
       "\n",
       "    .dataframe tbody tr th {\n",
       "        vertical-align: top;\n",
       "    }\n",
       "\n",
       "    .dataframe thead th {\n",
       "        text-align: right;\n",
       "    }\n",
       "</style>\n",
       "<table border=\"1\" class=\"dataframe\">\n",
       "  <thead>\n",
       "    <tr style=\"text-align: right;\">\n",
       "      <th></th>\n",
       "      <th>person1</th>\n",
       "      <th>person2</th>\n",
       "    </tr>\n",
       "  </thead>\n",
       "  <tbody>\n",
       "    <tr>\n",
       "      <th>0</th>\n",
       "      <td>1a78a273_69afff35</td>\n",
       "      <td>cbbb389d_6c185226</td>\n",
       "    </tr>\n",
       "    <tr>\n",
       "      <th>1</th>\n",
       "      <td>b49793f1_89131c25</td>\n",
       "      <td>528b6768_4cfc6dfc</td>\n",
       "    </tr>\n",
       "    <tr>\n",
       "      <th>2</th>\n",
       "      <td>dae7f2ef_a0eb0f08</td>\n",
       "      <td>f855223d_12422aaf</td>\n",
       "    </tr>\n",
       "    <tr>\n",
       "      <th>3</th>\n",
       "      <td>653464a_6d49face</td>\n",
       "      <td>7ac0271c_3677a2d6</td>\n",
       "    </tr>\n",
       "    <tr>\n",
       "      <th>4</th>\n",
       "      <td>ae33fd68_8c646d91</td>\n",
       "      <td>b66507c7_44b175d3</td>\n",
       "    </tr>\n",
       "  </tbody>\n",
       "</table>\n",
       "</div>"
      ],
      "text/plain": [
       "             person1            person2\n",
       "0  1a78a273_69afff35  cbbb389d_6c185226\n",
       "1  b49793f1_89131c25  528b6768_4cfc6dfc\n",
       "2  dae7f2ef_a0eb0f08  f855223d_12422aaf\n",
       "3   653464a_6d49face  7ac0271c_3677a2d6\n",
       "4  ae33fd68_8c646d91  b66507c7_44b175d3"
      ]
     },
     "execution_count": 7,
     "metadata": {},
     "output_type": "execute_result"
    }
   ],
   "source": [
    "foes.head()"
   ]
  },
  {
   "cell_type": "code",
   "execution_count": 8,
   "metadata": {},
   "outputs": [],
   "source": [
    "foes=foes.rename(columns={'person2':'foe'})"
   ]
  },
  {
   "cell_type": "code",
   "execution_count": 9,
   "metadata": {},
   "outputs": [],
   "source": [
    "relations=pd.merge(friends,foes,on='person1',how='inner')"
   ]
  },
  {
   "cell_type": "code",
   "execution_count": 10,
   "metadata": {},
   "outputs": [
    {
     "data": {
      "text/html": [
       "<div>\n",
       "<style scoped>\n",
       "    .dataframe tbody tr th:only-of-type {\n",
       "        vertical-align: middle;\n",
       "    }\n",
       "\n",
       "    .dataframe tbody tr th {\n",
       "        vertical-align: top;\n",
       "    }\n",
       "\n",
       "    .dataframe thead th {\n",
       "        text-align: right;\n",
       "    }\n",
       "</style>\n",
       "<table border=\"1\" class=\"dataframe\">\n",
       "  <thead>\n",
       "    <tr style=\"text-align: right;\">\n",
       "      <th></th>\n",
       "      <th>person1</th>\n",
       "      <th>friend</th>\n",
       "      <th>foe</th>\n",
       "    </tr>\n",
       "  </thead>\n",
       "  <tbody>\n",
       "    <tr>\n",
       "      <th>0</th>\n",
       "      <td>3f4929ef_956613b7</td>\n",
       "      <td>d6031447_a684b614</td>\n",
       "      <td>28858cce_80969575</td>\n",
       "    </tr>\n",
       "    <tr>\n",
       "      <th>1</th>\n",
       "      <td>3f4929ef_956613b7</td>\n",
       "      <td>d6031447_a684b614</td>\n",
       "      <td>726e8316_87757b02</td>\n",
       "    </tr>\n",
       "    <tr>\n",
       "      <th>2</th>\n",
       "      <td>3f4929ef_956613b7</td>\n",
       "      <td>d6031447_a684b614</td>\n",
       "      <td>f46c3323_43363b22</td>\n",
       "    </tr>\n",
       "    <tr>\n",
       "      <th>3</th>\n",
       "      <td>3f4929ef_956613b7</td>\n",
       "      <td>d6031447_a684b614</td>\n",
       "      <td>d95f49c1_abefbf21</td>\n",
       "    </tr>\n",
       "    <tr>\n",
       "      <th>4</th>\n",
       "      <td>3f4929ef_956613b7</td>\n",
       "      <td>d6031447_a684b614</td>\n",
       "      <td>f03a565d_ae84d384</td>\n",
       "    </tr>\n",
       "  </tbody>\n",
       "</table>\n",
       "</div>"
      ],
      "text/plain": [
       "             person1             friend                foe\n",
       "0  3f4929ef_956613b7  d6031447_a684b614  28858cce_80969575\n",
       "1  3f4929ef_956613b7  d6031447_a684b614  726e8316_87757b02\n",
       "2  3f4929ef_956613b7  d6031447_a684b614  f46c3323_43363b22\n",
       "3  3f4929ef_956613b7  d6031447_a684b614  d95f49c1_abefbf21\n",
       "4  3f4929ef_956613b7  d6031447_a684b614  f03a565d_ae84d384"
      ]
     },
     "execution_count": 10,
     "metadata": {},
     "output_type": "execute_result"
    }
   ],
   "source": [
    "relations.head()"
   ]
  },
  {
   "cell_type": "code",
   "execution_count": 11,
   "metadata": {},
   "outputs": [
    {
     "data": {
      "text/html": [
       "<div>\n",
       "<style scoped>\n",
       "    .dataframe tbody tr th:only-of-type {\n",
       "        vertical-align: middle;\n",
       "    }\n",
       "\n",
       "    .dataframe tbody tr th {\n",
       "        vertical-align: top;\n",
       "    }\n",
       "\n",
       "    .dataframe thead th {\n",
       "        text-align: right;\n",
       "    }\n",
       "</style>\n",
       "<table border=\"1\" class=\"dataframe\">\n",
       "  <thead>\n",
       "    <tr style=\"text-align: right;\">\n",
       "      <th></th>\n",
       "      <th>person id</th>\n",
       "      <th>score</th>\n",
       "    </tr>\n",
       "  </thead>\n",
       "  <tbody>\n",
       "    <tr>\n",
       "      <th>0</th>\n",
       "      <td>1122b7d5_ed317db7</td>\n",
       "      <td>-2</td>\n",
       "    </tr>\n",
       "    <tr>\n",
       "      <th>1</th>\n",
       "      <td>b0177400_be9028c7</td>\n",
       "      <td>-2</td>\n",
       "    </tr>\n",
       "    <tr>\n",
       "      <th>2</th>\n",
       "      <td>77ac4e2a_77109d8c</td>\n",
       "      <td>-1</td>\n",
       "    </tr>\n",
       "    <tr>\n",
       "      <th>3</th>\n",
       "      <td>49ca4e7d_2eb499f</td>\n",
       "      <td>2</td>\n",
       "    </tr>\n",
       "    <tr>\n",
       "      <th>4</th>\n",
       "      <td>9e4a7320_9ebed277</td>\n",
       "      <td>-2</td>\n",
       "    </tr>\n",
       "  </tbody>\n",
       "</table>\n",
       "</div>"
      ],
      "text/plain": [
       "           person id  score\n",
       "0  1122b7d5_ed317db7     -2\n",
       "1  b0177400_be9028c7     -2\n",
       "2  77ac4e2a_77109d8c     -1\n",
       "3   49ca4e7d_2eb499f      2\n",
       "4  9e4a7320_9ebed277     -2"
      ]
     },
     "execution_count": 11,
     "metadata": {},
     "output_type": "execute_result"
    }
   ],
   "source": [
    "scores.head()"
   ]
  },
  {
   "cell_type": "code",
   "execution_count": 12,
   "metadata": {},
   "outputs": [],
   "source": [
    "scores=scores.rename(columns={'person id':'person1'})"
   ]
  },
  {
   "cell_type": "code",
   "execution_count": 13,
   "metadata": {},
   "outputs": [],
   "source": [
    "relations=pd.merge(relations,scores,on='person1',how='inner')"
   ]
  },
  {
   "cell_type": "code",
   "execution_count": 14,
   "metadata": {},
   "outputs": [
    {
     "data": {
      "text/html": [
       "<div>\n",
       "<style scoped>\n",
       "    .dataframe tbody tr th:only-of-type {\n",
       "        vertical-align: middle;\n",
       "    }\n",
       "\n",
       "    .dataframe tbody tr th {\n",
       "        vertical-align: top;\n",
       "    }\n",
       "\n",
       "    .dataframe thead th {\n",
       "        text-align: right;\n",
       "    }\n",
       "</style>\n",
       "<table border=\"1\" class=\"dataframe\">\n",
       "  <thead>\n",
       "    <tr style=\"text-align: right;\">\n",
       "      <th></th>\n",
       "      <th>person1</th>\n",
       "      <th>friend</th>\n",
       "      <th>foe</th>\n",
       "      <th>score</th>\n",
       "    </tr>\n",
       "  </thead>\n",
       "  <tbody>\n",
       "    <tr>\n",
       "      <th>0</th>\n",
       "      <td>556ba434_c0ca2371</td>\n",
       "      <td>c38d1b99_3d61be1a</td>\n",
       "      <td>21db496f_e85c2b8a</td>\n",
       "      <td>-2</td>\n",
       "    </tr>\n",
       "    <tr>\n",
       "      <th>1</th>\n",
       "      <td>556ba434_c0ca2371</td>\n",
       "      <td>c38d1b99_3d61be1a</td>\n",
       "      <td>6ef90ad9_8bda5830</td>\n",
       "      <td>-2</td>\n",
       "    </tr>\n",
       "    <tr>\n",
       "      <th>2</th>\n",
       "      <td>556ba434_c0ca2371</td>\n",
       "      <td>c38d1b99_3d61be1a</td>\n",
       "      <td>9d664ed5_59e02574</td>\n",
       "      <td>-2</td>\n",
       "    </tr>\n",
       "    <tr>\n",
       "      <th>3</th>\n",
       "      <td>556ba434_c0ca2371</td>\n",
       "      <td>c38d1b99_3d61be1a</td>\n",
       "      <td>16544885_499ee510</td>\n",
       "      <td>-2</td>\n",
       "    </tr>\n",
       "    <tr>\n",
       "      <th>4</th>\n",
       "      <td>556ba434_c0ca2371</td>\n",
       "      <td>c38d1b99_3d61be1a</td>\n",
       "      <td>5520371e_b8c6eb15</td>\n",
       "      <td>-2</td>\n",
       "    </tr>\n",
       "  </tbody>\n",
       "</table>\n",
       "</div>"
      ],
      "text/plain": [
       "             person1             friend                foe  score\n",
       "0  556ba434_c0ca2371  c38d1b99_3d61be1a  21db496f_e85c2b8a     -2\n",
       "1  556ba434_c0ca2371  c38d1b99_3d61be1a  6ef90ad9_8bda5830     -2\n",
       "2  556ba434_c0ca2371  c38d1b99_3d61be1a  9d664ed5_59e02574     -2\n",
       "3  556ba434_c0ca2371  c38d1b99_3d61be1a  16544885_499ee510     -2\n",
       "4  556ba434_c0ca2371  c38d1b99_3d61be1a  5520371e_b8c6eb15     -2"
      ]
     },
     "execution_count": 14,
     "metadata": {},
     "output_type": "execute_result"
    }
   ],
   "source": [
    "relations.head()"
   ]
  },
  {
   "cell_type": "code",
   "execution_count": 15,
   "metadata": {},
   "outputs": [],
   "source": [
    "unlikely_friend=relations[relations.person1==relations.friend]\n",
    "unlikely_foe=relations[relations.person1==relations.foe]"
   ]
  },
  {
   "cell_type": "code",
   "execution_count": 16,
   "metadata": {},
   "outputs": [],
   "source": [
    "unlikely_friend=unlikely_friend.reset_index(drop=True)\n",
    "unlikely_foe=unlikely_foe.reset_index(drop=True)"
   ]
  },
  {
   "cell_type": "code",
   "execution_count": 17,
   "metadata": {},
   "outputs": [
    {
     "data": {
      "text/html": [
       "<div>\n",
       "<style scoped>\n",
       "    .dataframe tbody tr th:only-of-type {\n",
       "        vertical-align: middle;\n",
       "    }\n",
       "\n",
       "    .dataframe tbody tr th {\n",
       "        vertical-align: top;\n",
       "    }\n",
       "\n",
       "    .dataframe thead th {\n",
       "        text-align: right;\n",
       "    }\n",
       "</style>\n",
       "<table border=\"1\" class=\"dataframe\">\n",
       "  <thead>\n",
       "    <tr style=\"text-align: right;\">\n",
       "      <th></th>\n",
       "      <th>person1</th>\n",
       "      <th>friend</th>\n",
       "      <th>foe</th>\n",
       "      <th>score</th>\n",
       "    </tr>\n",
       "  </thead>\n",
       "  <tbody>\n",
       "    <tr>\n",
       "      <th>0</th>\n",
       "      <td>7295669_c50f4599</td>\n",
       "      <td>7295669_c50f4599</td>\n",
       "      <td>1f810a2f_7daa795f</td>\n",
       "      <td>-2</td>\n",
       "    </tr>\n",
       "    <tr>\n",
       "      <th>1</th>\n",
       "      <td>7295669_c50f4599</td>\n",
       "      <td>7295669_c50f4599</td>\n",
       "      <td>589e1eb5_94ccd822</td>\n",
       "      <td>-2</td>\n",
       "    </tr>\n",
       "    <tr>\n",
       "      <th>2</th>\n",
       "      <td>7295669_c50f4599</td>\n",
       "      <td>7295669_c50f4599</td>\n",
       "      <td>a74d1499_2864adca</td>\n",
       "      <td>-2</td>\n",
       "    </tr>\n",
       "    <tr>\n",
       "      <th>3</th>\n",
       "      <td>7295669_c50f4599</td>\n",
       "      <td>7295669_c50f4599</td>\n",
       "      <td>2511a7e7_b685a14c</td>\n",
       "      <td>-2</td>\n",
       "    </tr>\n",
       "    <tr>\n",
       "      <th>4</th>\n",
       "      <td>7295669_c50f4599</td>\n",
       "      <td>7295669_c50f4599</td>\n",
       "      <td>e6c591da_7c3aa3df</td>\n",
       "      <td>-2</td>\n",
       "    </tr>\n",
       "  </tbody>\n",
       "</table>\n",
       "</div>"
      ],
      "text/plain": [
       "            person1            friend                foe  score\n",
       "0  7295669_c50f4599  7295669_c50f4599  1f810a2f_7daa795f     -2\n",
       "1  7295669_c50f4599  7295669_c50f4599  589e1eb5_94ccd822     -2\n",
       "2  7295669_c50f4599  7295669_c50f4599  a74d1499_2864adca     -2\n",
       "3  7295669_c50f4599  7295669_c50f4599  2511a7e7_b685a14c     -2\n",
       "4  7295669_c50f4599  7295669_c50f4599  e6c591da_7c3aa3df     -2"
      ]
     },
     "execution_count": 17,
     "metadata": {},
     "output_type": "execute_result"
    }
   ],
   "source": [
    "unlikely_friend.head()"
   ]
  },
  {
   "cell_type": "code",
   "execution_count": 18,
   "metadata": {
    "scrolled": false
   },
   "outputs": [
    {
     "data": {
      "text/html": [
       "<div>\n",
       "<style scoped>\n",
       "    .dataframe tbody tr th:only-of-type {\n",
       "        vertical-align: middle;\n",
       "    }\n",
       "\n",
       "    .dataframe tbody tr th {\n",
       "        vertical-align: top;\n",
       "    }\n",
       "\n",
       "    .dataframe thead th {\n",
       "        text-align: right;\n",
       "    }\n",
       "</style>\n",
       "<table border=\"1\" class=\"dataframe\">\n",
       "  <thead>\n",
       "    <tr style=\"text-align: right;\">\n",
       "      <th></th>\n",
       "      <th>person1</th>\n",
       "      <th>friend</th>\n",
       "      <th>foe</th>\n",
       "      <th>score</th>\n",
       "    </tr>\n",
       "  </thead>\n",
       "  <tbody>\n",
       "    <tr>\n",
       "      <th>0</th>\n",
       "      <td>428d7973_93c5e9be</td>\n",
       "      <td>95c0ff70_cfa0c123</td>\n",
       "      <td>428d7973_93c5e9be</td>\n",
       "      <td>-1</td>\n",
       "    </tr>\n",
       "    <tr>\n",
       "      <th>1</th>\n",
       "      <td>428d7973_93c5e9be</td>\n",
       "      <td>b96c03cc_67baa859</td>\n",
       "      <td>428d7973_93c5e9be</td>\n",
       "      <td>-1</td>\n",
       "    </tr>\n",
       "    <tr>\n",
       "      <th>2</th>\n",
       "      <td>428d7973_93c5e9be</td>\n",
       "      <td>611ee08a_ef50b7d</td>\n",
       "      <td>428d7973_93c5e9be</td>\n",
       "      <td>-1</td>\n",
       "    </tr>\n",
       "    <tr>\n",
       "      <th>3</th>\n",
       "      <td>428d7973_93c5e9be</td>\n",
       "      <td>3f3e76da_ac5f8ec8</td>\n",
       "      <td>428d7973_93c5e9be</td>\n",
       "      <td>-1</td>\n",
       "    </tr>\n",
       "    <tr>\n",
       "      <th>4</th>\n",
       "      <td>428d7973_93c5e9be</td>\n",
       "      <td>3c82c49b_bdcde8f2</td>\n",
       "      <td>428d7973_93c5e9be</td>\n",
       "      <td>-1</td>\n",
       "    </tr>\n",
       "  </tbody>\n",
       "</table>\n",
       "</div>"
      ],
      "text/plain": [
       "             person1             friend                foe  score\n",
       "0  428d7973_93c5e9be  95c0ff70_cfa0c123  428d7973_93c5e9be     -1\n",
       "1  428d7973_93c5e9be  b96c03cc_67baa859  428d7973_93c5e9be     -1\n",
       "2  428d7973_93c5e9be   611ee08a_ef50b7d  428d7973_93c5e9be     -1\n",
       "3  428d7973_93c5e9be  3f3e76da_ac5f8ec8  428d7973_93c5e9be     -1\n",
       "4  428d7973_93c5e9be  3c82c49b_bdcde8f2  428d7973_93c5e9be     -1"
      ]
     },
     "execution_count": 18,
     "metadata": {},
     "output_type": "execute_result"
    }
   ],
   "source": [
    "unlikely_foe.head()"
   ]
  },
  {
   "cell_type": "code",
   "execution_count": 19,
   "metadata": {},
   "outputs": [
    {
     "data": {
      "text/plain": [
       "369"
      ]
     },
     "execution_count": 19,
     "metadata": {},
     "output_type": "execute_result"
    }
   ],
   "source": [
    "len(unlikely_friend.index)"
   ]
  },
  {
   "cell_type": "code",
   "execution_count": 20,
   "metadata": {},
   "outputs": [
    {
     "data": {
      "text/plain": [
       "73"
      ]
     },
     "execution_count": 20,
     "metadata": {},
     "output_type": "execute_result"
    }
   ],
   "source": [
    "len(unlikely_foe.index)"
   ]
  },
  {
   "cell_type": "code",
   "execution_count": 21,
   "metadata": {},
   "outputs": [],
   "source": [
    "unlikely_relation=relations[relations.friend==relations.foe]"
   ]
  },
  {
   "cell_type": "code",
   "execution_count": 22,
   "metadata": {},
   "outputs": [
    {
     "data": {
      "text/plain": [
       "42"
      ]
     },
     "execution_count": 22,
     "metadata": {},
     "output_type": "execute_result"
    }
   ],
   "source": [
    "len(unlikely_relation.index)"
   ]
  },
  {
   "cell_type": "code",
   "execution_count": 23,
   "metadata": {},
   "outputs": [],
   "source": [
    "unlikely_relation=unlikely_relation.reset_index(drop=True)"
   ]
  },
  {
   "cell_type": "code",
   "execution_count": 24,
   "metadata": {},
   "outputs": [
    {
     "data": {
      "text/plain": [
       "['236e4ff5_b0b1c46a',\n",
       " 'feaab7ff_e1b801ad',\n",
       " '66a2770c_34cd2822',\n",
       " 'c855abb4_a2923e20',\n",
       " 'e586f515_fa854ee5',\n",
       " '8509d089_963b716e',\n",
       " '21cf5865_9d9ce6ba',\n",
       " 'd4099e2_76f0a887',\n",
       " '6ef90ad9_8bda5830']"
      ]
     },
     "execution_count": 24,
     "metadata": {},
     "output_type": "execute_result"
    }
   ],
   "source": [
    "list(unlikely_relation.friend.head(9))"
   ]
  },
  {
   "cell_type": "code",
   "execution_count": 25,
   "metadata": {},
   "outputs": [
    {
     "data": {
      "text/plain": [
       "array(['428d7973_93c5e9be'], dtype=object)"
      ]
     },
     "execution_count": 25,
     "metadata": {},
     "output_type": "execute_result"
    }
   ],
   "source": [
    "unlikely_foe.person1.unique()"
   ]
  },
  {
   "cell_type": "code",
   "execution_count": 26,
   "metadata": {},
   "outputs": [
    {
     "data": {
      "text/plain": [
       "array(['7295669_c50f4599', 'b3f834fe_cd3e9607', '8764a06f_b414bfe2',\n",
       "       '86272b49_1e53876d', '7f2ca170_f4802921', '9a052fea_4dd58d63',\n",
       "       'd835c243_83f3d6ad', 'c8dd2d02_a9ab9b5a', '19f1fc75_a3df0ed1'],\n",
       "      dtype=object)"
      ]
     },
     "execution_count": 26,
     "metadata": {},
     "output_type": "execute_result"
    }
   ],
   "source": [
    "unlikely_friend.person1.unique()"
   ]
  },
  {
   "cell_type": "code",
   "execution_count": 27,
   "metadata": {},
   "outputs": [
    {
     "data": {
      "text/plain": [
       "array(['236e4ff5_b0b1c46a', 'feaab7ff_e1b801ad', '66a2770c_34cd2822',\n",
       "       'c855abb4_a2923e20', 'e586f515_fa854ee5', '8509d089_963b716e',\n",
       "       '21cf5865_9d9ce6ba', 'd4099e2_76f0a887', '6ef90ad9_8bda5830',\n",
       "       '48da89f6_55c7495', 'cb0c9599_be6b5297', 'a430d350_380266f3',\n",
       "       '47c95386_f75c08aa', 'e9a31f1e_2e2f8980', 'afe28fd8_ae1c3f96',\n",
       "       'c6dcf1ad_a047f1b6', '4ef00044_557c7c45', 'ad0d764f_9c7f8847',\n",
       "       '5fa54145_ca4f5564', '42054c01_bd9e09f9', '6c4bfad1_9c9043e',\n",
       "       '74a25e3f_bd77f9d3', '805a3244_aaf74aa2', 'a8a32a9f_ae184492',\n",
       "       '80c84e2_15b72700', 'ecd9d1f5_406aeaca', 'fa15549f_c9089e92',\n",
       "       'f9f0b87f_7dc4989d', '2ea9f36d_a5808bf0', '13d1af32_93b2abce',\n",
       "       '71b351d6_14f10db6', 'cd44da1b_345abf5c', '7a3d8d5f_9c45adbe',\n",
       "       'ff232b31_ce3e2b9c'], dtype=object)"
      ]
     },
     "execution_count": 27,
     "metadata": {},
     "output_type": "execute_result"
    }
   ],
   "source": [
    "unlikely_relation.friend.unique()"
   ]
  },
  {
   "cell_type": "code",
   "execution_count": 28,
   "metadata": {},
   "outputs": [],
   "source": [
    "person_score=relations.rename(columns={'score':'person_score'})"
   ]
  },
  {
   "cell_type": "code",
   "execution_count": 29,
   "metadata": {},
   "outputs": [],
   "source": [
    "scores=scores.rename(columns={'person1':'foe','score':'foe_score'})"
   ]
  },
  {
   "cell_type": "code",
   "execution_count": 30,
   "metadata": {},
   "outputs": [
    {
     "data": {
      "text/html": [
       "<div>\n",
       "<style scoped>\n",
       "    .dataframe tbody tr th:only-of-type {\n",
       "        vertical-align: middle;\n",
       "    }\n",
       "\n",
       "    .dataframe tbody tr th {\n",
       "        vertical-align: top;\n",
       "    }\n",
       "\n",
       "    .dataframe thead th {\n",
       "        text-align: right;\n",
       "    }\n",
       "</style>\n",
       "<table border=\"1\" class=\"dataframe\">\n",
       "  <thead>\n",
       "    <tr style=\"text-align: right;\">\n",
       "      <th></th>\n",
       "      <th>foe</th>\n",
       "      <th>foe_score</th>\n",
       "    </tr>\n",
       "  </thead>\n",
       "  <tbody>\n",
       "    <tr>\n",
       "      <th>0</th>\n",
       "      <td>1122b7d5_ed317db7</td>\n",
       "      <td>-2</td>\n",
       "    </tr>\n",
       "    <tr>\n",
       "      <th>1</th>\n",
       "      <td>b0177400_be9028c7</td>\n",
       "      <td>-2</td>\n",
       "    </tr>\n",
       "    <tr>\n",
       "      <th>2</th>\n",
       "      <td>77ac4e2a_77109d8c</td>\n",
       "      <td>-1</td>\n",
       "    </tr>\n",
       "    <tr>\n",
       "      <th>3</th>\n",
       "      <td>49ca4e7d_2eb499f</td>\n",
       "      <td>2</td>\n",
       "    </tr>\n",
       "    <tr>\n",
       "      <th>4</th>\n",
       "      <td>9e4a7320_9ebed277</td>\n",
       "      <td>-2</td>\n",
       "    </tr>\n",
       "  </tbody>\n",
       "</table>\n",
       "</div>"
      ],
      "text/plain": [
       "                 foe  foe_score\n",
       "0  1122b7d5_ed317db7         -2\n",
       "1  b0177400_be9028c7         -2\n",
       "2  77ac4e2a_77109d8c         -1\n",
       "3   49ca4e7d_2eb499f          2\n",
       "4  9e4a7320_9ebed277         -2"
      ]
     },
     "execution_count": 30,
     "metadata": {},
     "output_type": "execute_result"
    }
   ],
   "source": [
    "scores.head()"
   ]
  },
  {
   "cell_type": "code",
   "execution_count": 31,
   "metadata": {},
   "outputs": [],
   "source": [
    "person_score=pd.merge(person_score,scores,on='foe',how='inner')"
   ]
  },
  {
   "cell_type": "code",
   "execution_count": 32,
   "metadata": {},
   "outputs": [
    {
     "data": {
      "text/html": [
       "<div>\n",
       "<style scoped>\n",
       "    .dataframe tbody tr th:only-of-type {\n",
       "        vertical-align: middle;\n",
       "    }\n",
       "\n",
       "    .dataframe tbody tr th {\n",
       "        vertical-align: top;\n",
       "    }\n",
       "\n",
       "    .dataframe thead th {\n",
       "        text-align: right;\n",
       "    }\n",
       "</style>\n",
       "<table border=\"1\" class=\"dataframe\">\n",
       "  <thead>\n",
       "    <tr style=\"text-align: right;\">\n",
       "      <th></th>\n",
       "      <th>person1</th>\n",
       "      <th>friend</th>\n",
       "      <th>foe</th>\n",
       "      <th>person_score</th>\n",
       "      <th>foe_score</th>\n",
       "    </tr>\n",
       "  </thead>\n",
       "  <tbody>\n",
       "    <tr>\n",
       "      <th>0</th>\n",
       "      <td>556ba434_c0ca2371</td>\n",
       "      <td>c38d1b99_3d61be1a</td>\n",
       "      <td>21db496f_e85c2b8a</td>\n",
       "      <td>-2</td>\n",
       "      <td>2</td>\n",
       "    </tr>\n",
       "    <tr>\n",
       "      <th>1</th>\n",
       "      <td>556ba434_c0ca2371</td>\n",
       "      <td>5f1b2a2c_bd42f449</td>\n",
       "      <td>21db496f_e85c2b8a</td>\n",
       "      <td>-2</td>\n",
       "      <td>2</td>\n",
       "    </tr>\n",
       "    <tr>\n",
       "      <th>2</th>\n",
       "      <td>556ba434_c0ca2371</td>\n",
       "      <td>7b313367_90a034e1</td>\n",
       "      <td>21db496f_e85c2b8a</td>\n",
       "      <td>-2</td>\n",
       "      <td>2</td>\n",
       "    </tr>\n",
       "    <tr>\n",
       "      <th>3</th>\n",
       "      <td>556ba434_c0ca2371</td>\n",
       "      <td>590acad0_14c8d3ca</td>\n",
       "      <td>21db496f_e85c2b8a</td>\n",
       "      <td>-2</td>\n",
       "      <td>2</td>\n",
       "    </tr>\n",
       "    <tr>\n",
       "      <th>4</th>\n",
       "      <td>556ba434_c0ca2371</td>\n",
       "      <td>70bb276f_92564e59</td>\n",
       "      <td>21db496f_e85c2b8a</td>\n",
       "      <td>-2</td>\n",
       "      <td>2</td>\n",
       "    </tr>\n",
       "  </tbody>\n",
       "</table>\n",
       "</div>"
      ],
      "text/plain": [
       "             person1             friend                foe  person_score  \\\n",
       "0  556ba434_c0ca2371  c38d1b99_3d61be1a  21db496f_e85c2b8a            -2   \n",
       "1  556ba434_c0ca2371  5f1b2a2c_bd42f449  21db496f_e85c2b8a            -2   \n",
       "2  556ba434_c0ca2371  7b313367_90a034e1  21db496f_e85c2b8a            -2   \n",
       "3  556ba434_c0ca2371  590acad0_14c8d3ca  21db496f_e85c2b8a            -2   \n",
       "4  556ba434_c0ca2371  70bb276f_92564e59  21db496f_e85c2b8a            -2   \n",
       "\n",
       "   foe_score  \n",
       "0          2  \n",
       "1          2  \n",
       "2          2  \n",
       "3          2  \n",
       "4          2  "
      ]
     },
     "execution_count": 32,
     "metadata": {},
     "output_type": "execute_result"
    }
   ],
   "source": [
    "person_score.head()"
   ]
  },
  {
   "cell_type": "code",
   "execution_count": 33,
   "metadata": {},
   "outputs": [],
   "source": [
    "scores=scores.rename(columns={'foe':'friend','foe_score':'friend_score'})"
   ]
  },
  {
   "cell_type": "code",
   "execution_count": 34,
   "metadata": {},
   "outputs": [],
   "source": [
    "person_score=pd.merge(person_score,scores,on='friend',how='inner')"
   ]
  },
  {
   "cell_type": "code",
   "execution_count": 35,
   "metadata": {},
   "outputs": [
    {
     "data": {
      "text/html": [
       "<div>\n",
       "<style scoped>\n",
       "    .dataframe tbody tr th:only-of-type {\n",
       "        vertical-align: middle;\n",
       "    }\n",
       "\n",
       "    .dataframe tbody tr th {\n",
       "        vertical-align: top;\n",
       "    }\n",
       "\n",
       "    .dataframe thead th {\n",
       "        text-align: right;\n",
       "    }\n",
       "</style>\n",
       "<table border=\"1\" class=\"dataframe\">\n",
       "  <thead>\n",
       "    <tr style=\"text-align: right;\">\n",
       "      <th></th>\n",
       "      <th>person1</th>\n",
       "      <th>friend</th>\n",
       "      <th>foe</th>\n",
       "      <th>person_score</th>\n",
       "      <th>foe_score</th>\n",
       "      <th>friend_score</th>\n",
       "    </tr>\n",
       "  </thead>\n",
       "  <tbody>\n",
       "    <tr>\n",
       "      <th>0</th>\n",
       "      <td>556ba434_c0ca2371</td>\n",
       "      <td>4ed42ead_334bd0fc</td>\n",
       "      <td>21db496f_e85c2b8a</td>\n",
       "      <td>-2</td>\n",
       "      <td>2</td>\n",
       "      <td>1</td>\n",
       "    </tr>\n",
       "    <tr>\n",
       "      <th>1</th>\n",
       "      <td>556ba434_c0ca2371</td>\n",
       "      <td>4ed42ead_334bd0fc</td>\n",
       "      <td>6ef90ad9_8bda5830</td>\n",
       "      <td>-2</td>\n",
       "      <td>-2</td>\n",
       "      <td>1</td>\n",
       "    </tr>\n",
       "    <tr>\n",
       "      <th>2</th>\n",
       "      <td>556ba434_c0ca2371</td>\n",
       "      <td>4ed42ead_334bd0fc</td>\n",
       "      <td>16544885_499ee510</td>\n",
       "      <td>-2</td>\n",
       "      <td>-3</td>\n",
       "      <td>1</td>\n",
       "    </tr>\n",
       "    <tr>\n",
       "      <th>3</th>\n",
       "      <td>556ba434_c0ca2371</td>\n",
       "      <td>4ed42ead_334bd0fc</td>\n",
       "      <td>c4a4c0e6_c3ac6729</td>\n",
       "      <td>-2</td>\n",
       "      <td>3</td>\n",
       "      <td>1</td>\n",
       "    </tr>\n",
       "    <tr>\n",
       "      <th>4</th>\n",
       "      <td>3aef501a_80351c26</td>\n",
       "      <td>4ed42ead_334bd0fc</td>\n",
       "      <td>c4a4c0e6_c3ac6729</td>\n",
       "      <td>-1</td>\n",
       "      <td>3</td>\n",
       "      <td>1</td>\n",
       "    </tr>\n",
       "  </tbody>\n",
       "</table>\n",
       "</div>"
      ],
      "text/plain": [
       "             person1             friend                foe  person_score  \\\n",
       "0  556ba434_c0ca2371  4ed42ead_334bd0fc  21db496f_e85c2b8a            -2   \n",
       "1  556ba434_c0ca2371  4ed42ead_334bd0fc  6ef90ad9_8bda5830            -2   \n",
       "2  556ba434_c0ca2371  4ed42ead_334bd0fc  16544885_499ee510            -2   \n",
       "3  556ba434_c0ca2371  4ed42ead_334bd0fc  c4a4c0e6_c3ac6729            -2   \n",
       "4  3aef501a_80351c26  4ed42ead_334bd0fc  c4a4c0e6_c3ac6729            -1   \n",
       "\n",
       "   foe_score  friend_score  \n",
       "0          2             1  \n",
       "1         -2             1  \n",
       "2         -3             1  \n",
       "3          3             1  \n",
       "4          3             1  "
      ]
     },
     "execution_count": 35,
     "metadata": {},
     "output_type": "execute_result"
    }
   ],
   "source": [
    "person_score.head()"
   ]
  },
  {
   "cell_type": "code",
   "execution_count": 36,
   "metadata": {},
   "outputs": [],
   "source": [
    "def filter(i):\n",
    "        if i>0:\n",
    "            return(1)\n",
    "        else:\n",
    "            return(0)"
   ]
  },
  {
   "cell_type": "code",
   "execution_count": 37,
   "metadata": {},
   "outputs": [],
   "source": [
    "person_score.person_score=person_score.person_score.apply(lambda x:filter(x))\n",
    "person_score.foe_score=person_score.foe_score.apply(lambda x:filter(x))\n",
    "person_score.friend_score=person_score.friend_score.apply(lambda x:filter(x))"
   ]
  },
  {
   "cell_type": "code",
   "execution_count": 38,
   "metadata": {},
   "outputs": [
    {
     "data": {
      "text/html": [
       "<div>\n",
       "<style scoped>\n",
       "    .dataframe tbody tr th:only-of-type {\n",
       "        vertical-align: middle;\n",
       "    }\n",
       "\n",
       "    .dataframe tbody tr th {\n",
       "        vertical-align: top;\n",
       "    }\n",
       "\n",
       "    .dataframe thead th {\n",
       "        text-align: right;\n",
       "    }\n",
       "</style>\n",
       "<table border=\"1\" class=\"dataframe\">\n",
       "  <thead>\n",
       "    <tr style=\"text-align: right;\">\n",
       "      <th></th>\n",
       "      <th>person1</th>\n",
       "      <th>friend</th>\n",
       "      <th>foe</th>\n",
       "      <th>person_score</th>\n",
       "      <th>foe_score</th>\n",
       "      <th>friend_score</th>\n",
       "    </tr>\n",
       "  </thead>\n",
       "  <tbody>\n",
       "    <tr>\n",
       "      <th>0</th>\n",
       "      <td>556ba434_c0ca2371</td>\n",
       "      <td>4ed42ead_334bd0fc</td>\n",
       "      <td>21db496f_e85c2b8a</td>\n",
       "      <td>0</td>\n",
       "      <td>1</td>\n",
       "      <td>1</td>\n",
       "    </tr>\n",
       "    <tr>\n",
       "      <th>1</th>\n",
       "      <td>556ba434_c0ca2371</td>\n",
       "      <td>4ed42ead_334bd0fc</td>\n",
       "      <td>6ef90ad9_8bda5830</td>\n",
       "      <td>0</td>\n",
       "      <td>0</td>\n",
       "      <td>1</td>\n",
       "    </tr>\n",
       "    <tr>\n",
       "      <th>2</th>\n",
       "      <td>556ba434_c0ca2371</td>\n",
       "      <td>4ed42ead_334bd0fc</td>\n",
       "      <td>16544885_499ee510</td>\n",
       "      <td>0</td>\n",
       "      <td>0</td>\n",
       "      <td>1</td>\n",
       "    </tr>\n",
       "    <tr>\n",
       "      <th>3</th>\n",
       "      <td>556ba434_c0ca2371</td>\n",
       "      <td>4ed42ead_334bd0fc</td>\n",
       "      <td>c4a4c0e6_c3ac6729</td>\n",
       "      <td>0</td>\n",
       "      <td>1</td>\n",
       "      <td>1</td>\n",
       "    </tr>\n",
       "    <tr>\n",
       "      <th>4</th>\n",
       "      <td>3aef501a_80351c26</td>\n",
       "      <td>4ed42ead_334bd0fc</td>\n",
       "      <td>c4a4c0e6_c3ac6729</td>\n",
       "      <td>0</td>\n",
       "      <td>1</td>\n",
       "      <td>1</td>\n",
       "    </tr>\n",
       "  </tbody>\n",
       "</table>\n",
       "</div>"
      ],
      "text/plain": [
       "             person1             friend                foe  person_score  \\\n",
       "0  556ba434_c0ca2371  4ed42ead_334bd0fc  21db496f_e85c2b8a             0   \n",
       "1  556ba434_c0ca2371  4ed42ead_334bd0fc  6ef90ad9_8bda5830             0   \n",
       "2  556ba434_c0ca2371  4ed42ead_334bd0fc  16544885_499ee510             0   \n",
       "3  556ba434_c0ca2371  4ed42ead_334bd0fc  c4a4c0e6_c3ac6729             0   \n",
       "4  3aef501a_80351c26  4ed42ead_334bd0fc  c4a4c0e6_c3ac6729             0   \n",
       "\n",
       "   foe_score  friend_score  \n",
       "0          1             1  \n",
       "1          0             1  \n",
       "2          0             1  \n",
       "3          1             1  \n",
       "4          1             1  "
      ]
     },
     "execution_count": 38,
     "metadata": {},
     "output_type": "execute_result"
    }
   ],
   "source": [
    "person_score.head()"
   ]
  },
  {
   "cell_type": "code",
   "execution_count": 39,
   "metadata": {},
   "outputs": [],
   "source": [
    "amb_foe=person_score[person_score.person_score==person_score.foe_score]"
   ]
  },
  {
   "cell_type": "code",
   "execution_count": 40,
   "metadata": {},
   "outputs": [],
   "source": [
    "amb_foe=amb_foe.drop(columns=['friend','person_score','foe_score','friend_score'])"
   ]
  },
  {
   "cell_type": "code",
   "execution_count": 41,
   "metadata": {},
   "outputs": [],
   "source": [
    "amb_friend=person_score[person_score.person_score!=person_score.friend_score]"
   ]
  },
  {
   "cell_type": "code",
   "execution_count": 42,
   "metadata": {},
   "outputs": [],
   "source": [
    "amb_friend=amb_friend.drop(columns=['foe','person_score','foe_score','friend_score'])"
   ]
  },
  {
   "cell_type": "code",
   "execution_count": 43,
   "metadata": {},
   "outputs": [
    {
     "data": {
      "text/html": [
       "<div>\n",
       "<style scoped>\n",
       "    .dataframe tbody tr th:only-of-type {\n",
       "        vertical-align: middle;\n",
       "    }\n",
       "\n",
       "    .dataframe tbody tr th {\n",
       "        vertical-align: top;\n",
       "    }\n",
       "\n",
       "    .dataframe thead th {\n",
       "        text-align: right;\n",
       "    }\n",
       "</style>\n",
       "<table border=\"1\" class=\"dataframe\">\n",
       "  <thead>\n",
       "    <tr style=\"text-align: right;\">\n",
       "      <th></th>\n",
       "      <th>person1</th>\n",
       "      <th>foe</th>\n",
       "    </tr>\n",
       "  </thead>\n",
       "  <tbody>\n",
       "    <tr>\n",
       "      <th>0</th>\n",
       "      <td>556ba434_c0ca2371</td>\n",
       "      <td>6ef90ad9_8bda5830</td>\n",
       "    </tr>\n",
       "    <tr>\n",
       "      <th>1</th>\n",
       "      <td>556ba434_c0ca2371</td>\n",
       "      <td>16544885_499ee510</td>\n",
       "    </tr>\n",
       "    <tr>\n",
       "      <th>2</th>\n",
       "      <td>556ba434_c0ca2371</td>\n",
       "      <td>48da89f6_55c7495</td>\n",
       "    </tr>\n",
       "    <tr>\n",
       "      <th>3</th>\n",
       "      <td>556ba434_c0ca2371</td>\n",
       "      <td>d4099e2_76f0a887</td>\n",
       "    </tr>\n",
       "    <tr>\n",
       "      <th>4</th>\n",
       "      <td>4ed42ead_334bd0fc</td>\n",
       "      <td>3d54f335_c9d0e769</td>\n",
       "    </tr>\n",
       "  </tbody>\n",
       "</table>\n",
       "</div>"
      ],
      "text/plain": [
       "             person1                foe\n",
       "0  556ba434_c0ca2371  6ef90ad9_8bda5830\n",
       "1  556ba434_c0ca2371  16544885_499ee510\n",
       "2  556ba434_c0ca2371   48da89f6_55c7495\n",
       "3  556ba434_c0ca2371   d4099e2_76f0a887\n",
       "4  4ed42ead_334bd0fc  3d54f335_c9d0e769"
      ]
     },
     "execution_count": 43,
     "metadata": {},
     "output_type": "execute_result"
    }
   ],
   "source": [
    "amb_foe=amb_foe.drop_duplicates().reset_index(drop=True)\n",
    "amb_foe.head()"
   ]
  },
  {
   "cell_type": "code",
   "execution_count": 44,
   "metadata": {},
   "outputs": [
    {
     "data": {
      "text/html": [
       "<div>\n",
       "<style scoped>\n",
       "    .dataframe tbody tr th:only-of-type {\n",
       "        vertical-align: middle;\n",
       "    }\n",
       "\n",
       "    .dataframe tbody tr th {\n",
       "        vertical-align: top;\n",
       "    }\n",
       "\n",
       "    .dataframe thead th {\n",
       "        text-align: right;\n",
       "    }\n",
       "</style>\n",
       "<table border=\"1\" class=\"dataframe\">\n",
       "  <thead>\n",
       "    <tr style=\"text-align: right;\">\n",
       "      <th></th>\n",
       "      <th>person1</th>\n",
       "      <th>friend</th>\n",
       "    </tr>\n",
       "  </thead>\n",
       "  <tbody>\n",
       "    <tr>\n",
       "      <th>0</th>\n",
       "      <td>556ba434_c0ca2371</td>\n",
       "      <td>4ed42ead_334bd0fc</td>\n",
       "    </tr>\n",
       "    <tr>\n",
       "      <th>1</th>\n",
       "      <td>3aef501a_80351c26</td>\n",
       "      <td>4ed42ead_334bd0fc</td>\n",
       "    </tr>\n",
       "    <tr>\n",
       "      <th>2</th>\n",
       "      <td>556ba434_c0ca2371</td>\n",
       "      <td>b327c470_4f59511d</td>\n",
       "    </tr>\n",
       "    <tr>\n",
       "      <th>3</th>\n",
       "      <td>556ba434_c0ca2371</td>\n",
       "      <td>73904ed7_bdd6c067</td>\n",
       "    </tr>\n",
       "    <tr>\n",
       "      <th>4</th>\n",
       "      <td>968af9e_80720411</td>\n",
       "      <td>73904ed7_bdd6c067</td>\n",
       "    </tr>\n",
       "  </tbody>\n",
       "</table>\n",
       "</div>"
      ],
      "text/plain": [
       "             person1             friend\n",
       "0  556ba434_c0ca2371  4ed42ead_334bd0fc\n",
       "1  3aef501a_80351c26  4ed42ead_334bd0fc\n",
       "2  556ba434_c0ca2371  b327c470_4f59511d\n",
       "3  556ba434_c0ca2371  73904ed7_bdd6c067\n",
       "4   968af9e_80720411  73904ed7_bdd6c067"
      ]
     },
     "execution_count": 44,
     "metadata": {},
     "output_type": "execute_result"
    }
   ],
   "source": [
    "amb_friend=amb_friend.drop_duplicates().reset_index(drop=True)\n",
    "amb_friend.head()"
   ]
  },
  {
   "cell_type": "code",
   "execution_count": 45,
   "metadata": {},
   "outputs": [
    {
     "data": {
      "text/plain": [
       "1019"
      ]
     },
     "execution_count": 45,
     "metadata": {},
     "output_type": "execute_result"
    }
   ],
   "source": [
    "len(amb_friend)"
   ]
  },
  {
   "cell_type": "code",
   "execution_count": 46,
   "metadata": {},
   "outputs": [
    {
     "data": {
      "text/plain": [
       "782"
      ]
     },
     "execution_count": 46,
     "metadata": {},
     "output_type": "execute_result"
    }
   ],
   "source": [
    "len(amb_foe)"
   ]
  },
  {
   "cell_type": "code",
   "execution_count": 47,
   "metadata": {},
   "outputs": [],
   "source": [
    "amb1=pd.DataFrame(amb_friend.person1)\n",
    "amb2=pd.DataFrame(amb_foe.person1)"
   ]
  },
  {
   "cell_type": "code",
   "execution_count": 48,
   "metadata": {},
   "outputs": [],
   "source": [
    "amb=amb1.loc[amb1.person1.isin(amb2.person1)]"
   ]
  },
  {
   "cell_type": "code",
   "execution_count": 49,
   "metadata": {},
   "outputs": [],
   "source": [
    "amb=amb.drop_duplicates().reset_index(drop=True)"
   ]
  },
  {
   "cell_type": "code",
   "execution_count": 50,
   "metadata": {},
   "outputs": [
    {
     "data": {
      "text/plain": [
       "193"
      ]
     },
     "execution_count": 50,
     "metadata": {},
     "output_type": "execute_result"
    }
   ],
   "source": [
    "len(amb.index)"
   ]
  },
  {
   "cell_type": "code",
   "execution_count": 51,
   "metadata": {},
   "outputs": [
    {
     "data": {
      "text/html": [
       "<div>\n",
       "<style scoped>\n",
       "    .dataframe tbody tr th:only-of-type {\n",
       "        vertical-align: middle;\n",
       "    }\n",
       "\n",
       "    .dataframe tbody tr th {\n",
       "        vertical-align: top;\n",
       "    }\n",
       "\n",
       "    .dataframe thead th {\n",
       "        text-align: right;\n",
       "    }\n",
       "</style>\n",
       "<table border=\"1\" class=\"dataframe\">\n",
       "  <thead>\n",
       "    <tr style=\"text-align: right;\">\n",
       "      <th></th>\n",
       "      <th>person1</th>\n",
       "    </tr>\n",
       "  </thead>\n",
       "  <tbody>\n",
       "    <tr>\n",
       "      <th>0</th>\n",
       "      <td>556ba434_c0ca2371</td>\n",
       "    </tr>\n",
       "    <tr>\n",
       "      <th>1</th>\n",
       "      <td>968af9e_80720411</td>\n",
       "    </tr>\n",
       "    <tr>\n",
       "      <th>2</th>\n",
       "      <td>6826eae0_1a72ca12</td>\n",
       "    </tr>\n",
       "    <tr>\n",
       "      <th>3</th>\n",
       "      <td>bb6c0b99_3b496b3</td>\n",
       "    </tr>\n",
       "    <tr>\n",
       "      <th>4</th>\n",
       "      <td>6113a845_872757cc</td>\n",
       "    </tr>\n",
       "    <tr>\n",
       "      <th>5</th>\n",
       "      <td>428d7973_93c5e9be</td>\n",
       "    </tr>\n",
       "    <tr>\n",
       "      <th>6</th>\n",
       "      <td>52907b87_aa3e7910</td>\n",
       "    </tr>\n",
       "    <tr>\n",
       "      <th>7</th>\n",
       "      <td>307c710a_b3835244</td>\n",
       "    </tr>\n",
       "    <tr>\n",
       "      <th>8</th>\n",
       "      <td>38471523_fe405283</td>\n",
       "    </tr>\n",
       "  </tbody>\n",
       "</table>\n",
       "</div>"
      ],
      "text/plain": [
       "             person1\n",
       "0  556ba434_c0ca2371\n",
       "1   968af9e_80720411\n",
       "2  6826eae0_1a72ca12\n",
       "3   bb6c0b99_3b496b3\n",
       "4  6113a845_872757cc\n",
       "5  428d7973_93c5e9be\n",
       "6  52907b87_aa3e7910\n",
       "7  307c710a_b3835244\n",
       "8  38471523_fe405283"
      ]
     },
     "execution_count": 51,
     "metadata": {},
     "output_type": "execute_result"
    }
   ],
   "source": [
    "amb.head(9)"
   ]
  }
 ],
 "metadata": {
  "kernelspec": {
   "display_name": "Python 3",
   "language": "python",
   "name": "python3"
  },
  "language_info": {
   "codemirror_mode": {
    "name": "ipython",
    "version": 3
   },
   "file_extension": ".py",
   "mimetype": "text/x-python",
   "name": "python",
   "nbconvert_exporter": "python",
   "pygments_lexer": "ipython3",
   "version": "3.7.0"
  }
 },
 "nbformat": 4,
 "nbformat_minor": 2
}
